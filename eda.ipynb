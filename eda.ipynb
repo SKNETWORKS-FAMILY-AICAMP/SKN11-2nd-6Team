{
 "cells": [
  {
   "cell_type": "markdown",
   "id": "0a9ddcd7",
   "metadata": {
    "papermill": {
     "duration": 0.032876,
     "end_time": "2024-03-31T18:37:36.185021",
     "exception": false,
     "start_time": "2024-03-31T18:37:36.152145",
     "status": "completed"
    },
    "tags": []
   },
   "source": [
    "## Table of Contents\n",
    "<ul>\n",
    "<li><a href=\"#intro\">Introduction</a></li>\n",
    "<li><a href=\"#wrangling\">Data Wrangling</a></li>\n",
    "<li><a href=\"#eda\">Exploratory Data Analysis</a></li>\n",
    "<li><a href=\"#conclusions\">Conclusions</a></li>\n",
    "</ul>"
   ]
  },
  {
   "cell_type": "code",
   "execution_count": 269,
   "id": "389c5cd1",
   "metadata": {
    "execution": {
     "iopub.execute_input": "2024-03-31T18:37:36.642690Z",
     "iopub.status.busy": "2024-03-31T18:37:36.642224Z",
     "iopub.status.idle": "2024-03-31T18:37:39.337767Z",
     "shell.execute_reply": "2024-03-31T18:37:39.336743Z"
    },
    "papermill": {
     "duration": 2.732099,
     "end_time": "2024-03-31T18:37:39.340616",
     "exception": false,
     "start_time": "2024-03-31T18:37:36.608517",
     "status": "completed"
    },
    "tags": []
   },
   "outputs": [],
   "source": [
    "import pandas as pd\n",
    "import numpy as np\n",
    "import seaborn as sns\n",
    "import matplotlib.pyplot as plt"
   ]
  },
  {
   "cell_type": "markdown",
   "id": "063d49fe",
   "metadata": {},
   "source": [
    "# Merging Dataframes"
   ]
  },
  {
   "cell_type": "markdown",
   "id": "c5063c8b",
   "metadata": {},
   "source": [
    "1. 학생 정보 관련 파일:\n",
    "   - studentInfo.csv: 학생의 인구 통계 정보, 등록 정보 등을 담고 있습니다.\n",
    "\n",
    "2. 과정 정보 관련 파일:\n",
    "   - courses.csv: 각 코스(모듈)에 대한 정보를 담고 있습니다.\n",
    "   - assessments.csv: 코스 내의 평가 정보 (과제, 시험 등)를 담고 있습니다.\n",
    "\n",
    "3. 학생 성적 관련 파일:\n",
    "    - studentAssessment.csv: 학생들의 평가 점수를 담고 있습니다.\n",
    "    - studentRegistration.csv: 학생의 코스 등록 정보를 담고 있습니다.\n",
    "    \n",
    "4. VLE 활동 관련 파일:\n",
    "   - vle.csv: VLE 활동에 대한 설명 정보를 담고 있습니다.\n",
    "   - studentVle.csv: 학생의 VLE(Virtual Learning Environment) 활동 데이터를 담고 있습니다."
   ]
  },
  {
   "cell_type": "code",
   "execution_count": 270,
   "id": "3136d189",
   "metadata": {
    "execution": {
     "iopub.execute_input": "2024-03-31T18:37:39.533033Z",
     "iopub.status.busy": "2024-03-31T18:37:39.532378Z",
     "iopub.status.idle": "2024-03-31T18:37:39.875792Z",
     "shell.execute_reply": "2024-03-31T18:37:39.874763Z"
    },
    "papermill": {
     "duration": 0.440885,
     "end_time": "2024-03-31T18:37:39.878384",
     "exception": false,
     "start_time": "2024-03-31T18:37:39.437499",
     "status": "completed"
    },
    "tags": []
   },
   "outputs": [],
   "source": [
    "assessments_df = pd.read_csv(\"./data/assessments.csv\")\n",
    "courses_df = pd.read_csv(\"./data/courses.csv\")\n",
    "studentAssessment_df = pd.read_csv(\"./data/studentAssessment.csv\")\n",
    "\n",
    "# vle_df = pd.read_csv(\"./data/vle.csv\")\n",
    "# studentVle_df = pd.read_csv(\"./data/studentVle.csv\")\n",
    "\n",
    "studentInfo_df = pd.read_csv(\"./data/studentInfo.csv\")\n",
    "studentRegistration_df = pd.read_csv(\"./data/studentRegistration.csv\")"
   ]
  },
  {
   "cell_type": "code",
   "execution_count": null,
   "id": "3717fdad",
   "metadata": {},
   "outputs": [],
   "source": [
    "print('코스 내의 과제, 시험 정보',assessments_df.columns)\n",
    "print('코스 정보',courses_df.columns)\n",
    "print('학생 평가 점수',studentAssessment_df.columns)\n",
    "print('학생 정보',studentInfo_df.columns)\n",
    "print('학생의 등록 정보',studentRegistration_df.columns)\n",
    "# print('vle 활동 정보',vle_df.columns)\n",
    "# print('학생의 vle 활동 정보',studentVle_df.columns)"
   ]
  },
  {
   "cell_type": "code",
   "execution_count": 272,
   "id": "88c9e616",
   "metadata": {},
   "outputs": [],
   "source": [
    "# 1. 학생 평가 점수와 과제 정보 병합\n",
    "merged_df = studentAssessment_df.merge(assessments_df, on='id_assessment', how='left')\n",
    "# 2. 학생 정보 추가\n",
    "merged_df = merged_df.merge(studentInfo_df, on=['id_student', 'code_module', 'code_presentation'], how='left')\n",
    "# 3. 학생 등록 정보 추가\n",
    "merged_df = merged_df.merge(studentRegistration_df, on=['id_student', 'code_module', 'code_presentation'], how='left')\n",
    "# 4. 코스 정보 추가\n",
    "merged_df = merged_df.merge(courses_df, on=['code_module', 'code_presentation'], how='left')"
   ]
  },
  {
   "cell_type": "code",
   "execution_count": 273,
   "id": "a3307a23",
   "metadata": {},
   "outputs": [],
   "source": [
    "# 중복 행 제거\n",
    "merged_df = merged_df.drop_duplicates()"
   ]
  },
  {
   "cell_type": "code",
   "execution_count": 274,
   "id": "77ed5c92",
   "metadata": {},
   "outputs": [],
   "source": [
    "merged_df.to_csv('merged_data.csv')"
   ]
  },
  {
   "cell_type": "code",
   "execution_count": 275,
   "id": "137f4df2",
   "metadata": {},
   "outputs": [],
   "source": [
    "# merged_vle_df = pd.merge(vle_df, studentVle_df, \n",
    "#                            on=['id_site', 'code_module', 'code_presentation'],\n",
    "#                            how='outer')"
   ]
  },
  {
   "cell_type": "code",
   "execution_count": 276,
   "id": "53e8caeb",
   "metadata": {},
   "outputs": [],
   "source": [
    "# 중복 행 제거\n",
    "# merged_vle_df = merged_vle_df.drop_duplicates()"
   ]
  },
  {
   "cell_type": "code",
   "execution_count": 277,
   "id": "d3300fd8",
   "metadata": {},
   "outputs": [],
   "source": [
    "# merged_vle_df.to_csv('./data/merged_vle_data.csv')"
   ]
  },
  {
   "cell_type": "markdown",
   "id": "aebc04aa",
   "metadata": {
    "papermill": {
     "duration": 0.033818,
     "end_time": "2024-03-31T18:37:40.504484",
     "exception": false,
     "start_time": "2024-03-31T18:37:40.470666",
     "status": "completed"
    },
    "tags": []
   },
   "source": [
    "---\n",
    "# 데이터 전처리"
   ]
  },
  {
   "cell_type": "markdown",
   "id": "d0a904ec",
   "metadata": {},
   "source": [
    "### 1. 결측치 처리"
   ]
  },
  {
   "cell_type": "markdown",
   "id": "9a2be108",
   "metadata": {},
   "source": [
    "### `date`\n",
    "\n",
    "- 대부분 `assessment_type = \"Exam\"`에 해당\n",
    "- 시험은 일반적으로 강의 종료일에 시행됨\n",
    "→ `module_presentation_length`를 활용해 **강의 마지막 날짜로 채움**"
   ]
  },
  {
   "cell_type": "code",
   "execution_count": 278,
   "id": "e40a5ec0",
   "metadata": {},
   "outputs": [],
   "source": [
    "merged_data=merged_df\n",
    "merged_data['is_late'] = (merged_data['date_submitted'] > merged_data['date']).astype(int)"
   ]
  },
  {
   "cell_type": "code",
   "execution_count": 279,
   "id": "876aab87",
   "metadata": {},
   "outputs": [],
   "source": [
    "# # # 2. 컬럼 이름 정리 (공백 제거)\n",
    "# # merged_data.columns = merged_data.columns.str.strip()\n",
    "# # courses.columns = courses.columns.str.strip()\n",
    "\n",
    "# # 3. 'Exam'이고 date가 NaN인 행 필터링\n",
    "# is_exam_nan = (merged_data['assessment_type'] == 'Exam') & (merged_data['date'].isna())\n",
    "\n",
    "# # 4. 강의별 강의일수 정보 가져오기 (module_presentation_length)\n",
    "# module_length_map = merged_data.set_index(['code_module', 'code_presentation'])['module_presentation_length']\n",
    "\n",
    "# # 5. 결측 date 값 채우기\n",
    "# def fill_exam_date(row):\n",
    "#     if row['assessment_type'] == 'Exam' and pd.isna(row['date']):\n",
    "#         return module_length_map.get((row['code_module'], row['code_presentation']), row['date'])\n",
    "#     return row['date']\n",
    "\n",
    "# merged_data['date'] = merged_data.apply(fill_exam_date, axis=1)\n"
   ]
  },
  {
   "cell_type": "markdown",
   "id": "5d0a3dfb",
   "metadata": {},
   "source": [
    "### 🔹 결측치 제거\n",
    "\n",
    "### `score`\n",
    "\n",
    "- 총 173건 결측\n",
    "    - `Withdrawn`(이탈자): 72개\n",
    "    - `Pass`, `Fail`, `Distinction`(수료자): 101개\n",
    "- 과제를 제출했는데도 점수가 없는 경우로 추정… 수가 적으므로 **삭제 처리**\n",
    "\n",
    "### `date_registration`\n",
    "\n",
    "- 수강 등록일이 없는 7건 → **삭제**"
   ]
  },
  {
   "cell_type": "code",
   "execution_count": null,
   "id": "fbd0c7e4",
   "metadata": {},
   "outputs": [],
   "source": [
    "# score가 NaN인 사람들 중에 이탈하지 않은 사람\n",
    "score_nan_but_not_withdrawn = merged_data[merged_data['score'].isna() & (merged_data['final_result'] != 'Withdrawn')]\n",
    "\n",
    "# score가 NaN인 사람들 중에 이탈한 사람\n",
    "score_nan_and_withdrawn = merged_data[merged_data['score'].isna() & (merged_data['final_result'] == 'Withdrawn')]\n",
    "\n",
    "# 결과 확인\n",
    "# print(score_nan_but_not_withdrawn[['id_student', 'id_assessment', 'final_result']])\n",
    "print(f\"수료했는데도 score가 결측인 사람 수: {len(score_nan_but_not_withdrawn)}명\")\n",
    "\n",
    "# print(score_nan_and_withdrawn[['id_student', 'id_assessment', 'final_result']])\n",
    "print(f\"이탈했고 score가 결측인 사람 수: {len(score_nan_and_withdrawn)}명\")\n",
    "\n",
    "\n",
    "# Score 결측치 데이터(173개) + date_registration 결측치 데이터(7개) 데이터 제거\n",
    "\n",
    "df_cleaned = merged_data.dropna(subset=['score','date_registration'])\n",
    "\n",
    "df=df_cleaned\n"
   ]
  },
  {
   "cell_type": "markdown",
   "id": "11ea0c32",
   "metadata": {},
   "source": [
    "### `imd_band`\n",
    "\n",
    "- 총 7697건 결측\n",
    "- 전체 28,785명 중 약 **971명**의 `imd_band`(지역 기반 사회경제 수준 지표)가 없음"
   ]
  },
  {
   "cell_type": "markdown",
   "id": "6e219a0a",
   "metadata": {},
   "source": [
    "- imd_band에 데이터를 넣는코드"
   ]
  },
  {
   "cell_type": "code",
   "execution_count": 281,
   "id": "c766504f",
   "metadata": {},
   "outputs": [],
   "source": [
    "# 'imd_band' 컬럼의 NaN 값을 'Unknown'으로 채우기\n",
    "# unknown 대신 다른 문자열로 채울 수 있음\n",
    "# 숫자로도 넣을 수 있음.\n",
    "df.loc[:, 'imd_band'] = df['imd_band'].fillna('Unknown')"
   ]
  },
  {
   "cell_type": "markdown",
   "id": "182be520",
   "metadata": {},
   "source": [
    "- 'imd_band' 컬럼에서 결측치가 있는 행을 삭제"
   ]
  },
  {
   "cell_type": "code",
   "execution_count": 282,
   "id": "4e3400b8",
   "metadata": {},
   "outputs": [],
   "source": [
    "df = df.dropna(subset=['imd_band','date'])"
   ]
  },
  {
   "cell_type": "code",
   "execution_count": null,
   "id": "16fc15c1",
   "metadata": {},
   "outputs": [],
   "source": [
    "df.isnull().sum()"
   ]
  },
  {
   "cell_type": "code",
   "execution_count": null,
   "id": "f6486f82",
   "metadata": {},
   "outputs": [],
   "source": [
    "print(df['imd_band'].isna().sum())  # NaN 개수 확인\n",
    "print(df['imd_band'].unique())  # imd_band 컬럼의 고유값 확인"
   ]
  },
  {
   "cell_type": "code",
   "execution_count": null,
   "id": "abeb0995",
   "metadata": {},
   "outputs": [],
   "source": [
    "display(df['imd_band'].unique())\n",
    "\n",
    "imd_band_to_income = {\n",
    "    '90-100%': 9,  \n",
    "    '80-90%': 8,  \n",
    "    '70-80%': 7, \n",
    "    '60-70%': 6, \n",
    "    '50-60%': 5, \n",
    "    '40-50%': 4, \n",
    "    '30-40%': 3,  \n",
    "    '20-30%': 2,    \n",
    "    '10-20': 1, \n",
    "    '0-10%': 0,    \n",
    "    'Unknown': 0     \n",
    "}\n",
    "\n",
    "df['imd_band'] = df['imd_band'].map(imd_band_to_income)"
   ]
  },
  {
   "cell_type": "markdown",
   "id": "e6c04685",
   "metadata": {},
   "source": [
    "### `date_unregistration`\n",
    "\n",
    "- 결측치 160,857건\n",
    "- 해당 컬럼은 **\"언제 수강을 중도 이탈했는가\"**를 의미\n",
    "→ **결측 = 중도 이탈하지 않은 수료자**\n",
    "→ 즉, 의미 있는 결측이므로 **삭제하지 않음** → 인코딩 과정에서 결측치를 처리 한다!!!"
   ]
  },
  {
   "cell_type": "code",
   "execution_count": null,
   "id": "cb8d6657",
   "metadata": {},
   "outputs": [],
   "source": []
  },
  {
   "cell_type": "markdown",
   "id": "876e357f",
   "metadata": {},
   "source": [
    "---"
   ]
  },
  {
   "cell_type": "markdown",
   "id": "c49ed728",
   "metadata": {},
   "source": [
    "- date_unregistration 이상치 제거\n",
    "- Fail값이 나올 수 없기 때문에 이상치 처리해야함!!!!!!!!!!!!!!!!!!!!\n",
    "- 조건 -> final_result 값 안에 Fail 일 때 date_unregistration이 0보다 크거나 같을 때"
   ]
  },
  {
   "cell_type": "markdown",
   "id": "8b9e25ce",
   "metadata": {},
   "source": [
    "### `final_result 이상치 처리 코드`"
   ]
  },
  {
   "cell_type": "code",
   "execution_count": null,
   "id": "6d0fd01a",
   "metadata": {},
   "outputs": [],
   "source": [
    "df[(df['final_result'] == 'Fail') & (df['date_unregistration'] >= 0)]"
   ]
  },
  {
   "cell_type": "code",
   "execution_count": 287,
   "id": "4bc14089",
   "metadata": {},
   "outputs": [],
   "source": [
    "df = df.drop(df[(df['final_result'] == 'Fail') & (df['date_unregistration'] >= 0)].index)"
   ]
  },
  {
   "cell_type": "code",
   "execution_count": 288,
   "id": "6c4af077",
   "metadata": {},
   "outputs": [],
   "source": [
    "merged_data=df"
   ]
  },
  {
   "cell_type": "markdown",
   "id": "23fef98c",
   "metadata": {},
   "source": [
    "### 2. 이상치 처리 및 시각화\n",
    "   - 수치형 변수의 이상치 확인 및 처리(예: score, studied_credits의 극단값 혹은 0 값 등)"
   ]
  },
  {
   "cell_type": "code",
   "execution_count": null,
   "id": "f93a6eed",
   "metadata": {},
   "outputs": [],
   "source": []
  },
  {
   "cell_type": "markdown",
   "id": "70fe5082",
   "metadata": {},
   "source": [
    "### 3. 데이터 타입 변환\n",
    "   - 날짜 관련 변수를 datetime 형식으로 변환\n",
    "   - 범주형 변수를 category 타입으로 변환"
   ]
  },
  {
   "cell_type": "code",
   "execution_count": null,
   "id": "625b4a65",
   "metadata": {},
   "outputs": [],
   "source": []
  },
  {
   "cell_type": "markdown",
   "id": "ae09640a",
   "metadata": {},
   "source": [
    "### 4. 특성 엔지니어링"
   ]
  },
  {
   "cell_type": "markdown",
   "id": "c845e493",
   "metadata": {},
   "source": [
    "#### 학생의 성적 관련 특성\n",
    "  - 각 학생의 평균 점수, 최고 점수, 최저 점수, 점수의 표준편차\n",
    "    - 각 학생당 코스별 성적 편차 필요할까?\n",
    "  - 점수 추세 (상승 또는 하락)\n",
    "  - 과제 난이도에 따른 가중 점수 -> 난이도 기준을 뭘로 잡아야하나?\n",
    " \n",
    "##### my_average_score, my_max_score, my_min_score, my_score_std, my_score_trend, assesment_weight, weighted_score\n",
    "\n",
    "- my_avg_score : 개인 학업 성취도 수준 파악\n",
    "- my_max/min_score/my_score_std : 특정 과목 강점/약점 식별 및 극단적 편차 분석\n",
    "- my_score_trend\t: 학습 효과성 평가 (지속적 상승=효율적 학습법, 하락=개입 필요)\n",
    "- weighted_score :\t난이도 대비 성취도 → \"B과제는 고난이도지만 고가중점수 → Distinct 학생\" "
   ]
  },
  {
   "cell_type": "code",
   "execution_count": 289,
   "id": "c60d9cf0",
   "metadata": {},
   "outputs": [],
   "source": [
    "# 학생의 평균, 최고, 최저 점수 및 표준편차 계산\n",
    "student_scores = merged_data.groupby('id_student')['score'].agg(['mean', 'max', 'min', 'std']).reset_index()\n",
    "student_scores.columns = ['id_student', 'my_average_score', 'my_max_score', 'my_min_score', 'my_score_std']\n",
    "\n",
    "# # 학생의 코스별 성적 표준편차 계산\n",
    "# score_std_by_module = merged_data.groupby(['id_student', 'code_module'])['score'].std().reset_index()\n",
    "# score_std_by_module = score_std_by_module.pivot(index='id_student', columns='code_module', values='score').reset_index()\n",
    "# score_std_by_module.columns = ['id_student'] + [f'score_std_{col}' for col in score_std_by_module.columns if col != 'id_student']\n",
    "\n",
    "# 점수 추세 분석\n",
    "merged_data_sorted = merged_data.sort_values(by=['id_student', 'date_submitted'])\n",
    "merged_data_sorted['score_diff'] = merged_data_sorted.groupby('id_student')['score'].diff()\n",
    "\n",
    "def determine_trend(diff):\n",
    "    if diff > 0:\n",
    "        return 'increasing'\n",
    "    else:\n",
    "        return 'decreasing'\n",
    "    \n",
    "merged_data_sorted['score_trend'] = merged_data_sorted['score_diff'].apply(determine_trend)\n",
    "student_trends = merged_data_sorted.groupby('id_student')['score_trend'].apply(lambda x: x.value_counts().idxmax()).reset_index()\n",
    "student_trends.columns = ['id_student', 'my_score_trend']\n",
    "\n",
    "# 모든 특성을 하나의 데이터프레임으로 병합\n",
    "student_features = pd.merge(student_scores, student_trends, on='id_student')\n",
    "\n",
    "# 원본 데이터와 새로운 특성을 병합\n",
    "merged_data = pd.merge(merged_data, student_features, on='id_student')\n",
    "\n",
    "# 과제 난이도 가중치를 적용한 점수 (평균 기반)\n",
    "\n",
    "# weight 계산 (평균 점수가 낮을수록 가중치가 높아짐)\n",
    "avg = merged_data.groupby('id_assessment')['score'].mean()\n",
    "max_avg = avg.max()\n",
    "weight = (max_avg - avg) / (max_avg - avg).sum()\n",
    "\n",
    "# weight를 데이터프레임으로 변환\n",
    "weight_df = weight.reset_index()\n",
    "weight_df.columns = ['id_assessment', 'assessment_weight']\n",
    "merged_data = pd.merge(merged_data, weight_df, on='id_assessment', how='left')\n",
    "\n",
    "# 가중 점수 계산\n",
    "merged_data['weighted_score'] = merged_data['score'] * merged_data['assessment_weight']"
   ]
  },
  {
   "cell_type": "markdown",
   "id": "39ea43fe",
   "metadata": {},
   "source": [
    "#### 코스 관련 특성\n",
    "  - 코스별 평균 점수, 최고 점수, 최저 점수, 점수의 표준편차 -> 최저 점수 다 0임, 최고점이 필요한가?, 중간값이 필요한가?\n",
    "  - 코스별 과제 개수\n",
    "\n",
    "##### 'course_avg_score', 'course_std_score', 'assignment_count'\n",
    "\n",
    "- course_avg_score, course_std_score :\t평가 방식 적정성 → 편차↑=과도한 변별력 / 강좌 난이도 레벨링\n",
    "- assignment_count :\t과제량-성적 상관관계 분석 → 최적 과제량 도출"
   ]
  },
  {
   "cell_type": "code",
   "execution_count": 290,
   "id": "377130f1",
   "metadata": {},
   "outputs": [],
   "source": [
    "# 과목별 통계 계산\n",
    "subject_stats = merged_data.groupby(['code_presentation', 'code_module']).agg({\n",
    "    'score': ['mean', 'max', 'std']\n",
    "})\n",
    "subject_stats.columns = ['course_avg_score', 'course_max_score', 'course_std_score']\n",
    "\n",
    "# 과목 통계 데이터 병합\n",
    "merged_data = merged_data.merge(\n",
    "    subject_stats.reset_index(),\n",
    "    on=['code_presentation', 'code_module'],\n",
    "    how='left'\n",
    ")\n",
    "merged_data['assignment_count'] = merged_data.groupby(['code_presentation', 'code_module'])['id_assessment'].transform('nunique')\n",
    "\n",
    "# # 과목별 난이도 가중치를 적용한 점수 (표준편차 기반)\n",
    "# difficulty = subject_stats['course_std_score']\n",
    "# weights = (difficulty / difficulty.sum()) * 10\n",
    "# merged_data = merged_data.merge(\n",
    "#     weights.rename('course_weight'), \n",
    "#     left_on='code_module', \n",
    "#     right_index=True\n",
    "# )\n",
    "# merged_data['weighted_score'] = merged_data['score'] * merged_data['course_weight']"
   ]
  },
  {
   "cell_type": "code",
   "execution_count": null,
   "id": "f8e505f5",
   "metadata": {},
   "outputs": [],
   "source": [
    "merged_data[merged_data['code_module']=='AAA']"
   ]
  },
  {
   "cell_type": "markdown",
   "id": "72640079",
   "metadata": {},
   "source": [
    "#### 행동 패턴 특성\n",
    "- 전체 학생 기준\n",
    "  - 코스별 과제 제출률 => 제출률 100프로\n",
    "  - 코스별 지각 제출 비율\n",
    "  - 과제별 제출 시간의 평균, 중앙값, 표준편차\n",
    "\n",
    "- 한명 학생 기준\n",
    "  - 과제 제출률 => 제출률 100프로\n",
    "  - 지각 제출 비율\n",
    "  - 이탈 학생의 이탈 단계 할당\n",
    "\n",
    "##### 'course_late_rate', 'my_late_rate', 'days_early_submission_avg', 'days_early_submissione_max', 'days_early_submission_min','days_early_submission_std','days_early_submission', 'is_late', 'unregistration_stage'\n",
    "\n",
    "- my_late_rate\t: 습관적 지각 여부 → 학습태도 평가 지표\n",
    "- days_early_submission_*\t: 과제의 난의도 판별 → 평균 7일 이상 = 쉬운 과제인가, 평균 0일 이하 = 어려운 과제인가, 표준편차가 크다 = 학생의 역량\n",
    "- course_late_rate : 코스의 난의도 판별 -> 필요없을까?\n",
    "- unregistration_stage : 첫 번째 과제 이후 이탈-> 수업의 어려움보다는 외부적인 이유일 가능성이 높음 / 중간쯤 과제 제출 후 이탈->학업에서의 고충이나 과제의 난이도 등이 영향이 있을 수 있음"
   ]
  },
  {
   "cell_type": "code",
   "execution_count": 292,
   "id": "6ede0af0",
   "metadata": {},
   "outputs": [],
   "source": [
    "# 모든 학생 기준\n",
    "# 1. 코스별 평균 제출률 계산\n",
    "# 1-1. 학생별 코스 내 제출률 계산\n",
    "# student_course_submission = merged_data.groupby(['code_module', 'id_student']).agg(\n",
    "#     student_submissions=('id_assessment', 'count'),\n",
    "#     course_assessments=('id_assessment', 'nunique')\n",
    "# ).astype({'student_submissions': int, 'course_assessments': int}).reset_index()\n",
    "\n",
    "# # 1-2. 학생별 제출률 계산\n",
    "# student_course_submission['student_submission_rate'] = (\n",
    "#     student_course_submission['student_submissions']\n",
    "#     / student_course_submission['course_assessments']\n",
    "# )\n",
    "# course_stats = student_course_submission.groupby('code_module')['student_submission_rate'].mean().reset_index()\n",
    "# course_stats.columns = ['code_module', 'course_avg_submission_rate']\n",
    "# student_course_submission[student_course_submission['student_submission_rate'] != 1]\n",
    "\n",
    "# 2. 코스별 지각 제출 비율\n",
    "# 3. 과제별 제출시간 평균, 중간, 표준편차\n",
    "\n",
    "# 개인기준\n",
    "# # 1. 학생별 과제 제출률\n",
    "# student_stats = merged_data.groupby('id_student').agg(\n",
    "#     student_submissions=('id_assessment', 'count'),\n",
    "#     total_assignments=('id_assessment', 'nunique')\n",
    "# ).reset_index()\n",
    "# student_stats['student_submission_rate'] = student_stats['student_submissions'] / student_stats['total_assignments']\n",
    "# student_stats[student_stats['student_submission_rate'] != 1]\n",
    "\n",
    "# 2. 학생별 지각 제출 비율"
   ]
  },
  {
   "cell_type": "code",
   "execution_count": 293,
   "id": "7241f000",
   "metadata": {},
   "outputs": [],
   "source": [
    "# 코스별 지각 제출 비율\n",
    "# merged_data['is_late'] = (merged_data['date_submitted'] > merged_data['date']).astype(int)\n",
    "merged_data['course_late_rate'] = merged_data.groupby(['code_presentation', 'code_module'])['is_late'].transform('mean')\n",
    "\n",
    "# 과제별 데드라인 전 제출 시간 평균, 중간, 표준편차\n",
    "merged_data['days_early_submission'] = merged_data['date'] - merged_data['date_submitted']  # 컬럼명 변경 권장\n",
    "assessment_stats = merged_data.groupby('id_assessment')['days_early_submission'].agg([\n",
    "    ('days_early_submission_avg', 'mean'),\n",
    "    ('days_early_submission_max', 'max'),\n",
    "    ('days_early_submission_min', 'min'),\n",
    "    ('days_early_submission_std', 'std')\n",
    "]).reset_index()\n",
    "merged_data = merged_data.merge(assessment_stats, on='id_assessment')\n",
    "\n",
    "# 학생별 지각 제출 비율\n",
    "merged_data['my_late_rate'] = merged_data.groupby('id_student')['is_late'].transform('mean')"
   ]
  },
  {
   "cell_type": "code",
   "execution_count": 294,
   "id": "cc3233eb",
   "metadata": {},
   "outputs": [],
   "source": [
    "dropped_out_students = merged_data[merged_data['date_unregistration'].notnull()]\n",
    "\n",
    "# 이탈한 학생이 제출한 과제 수 계산 (학생, 과목별로 그룹화)\n",
    "submitted_assignments = dropped_out_students.groupby(['id_student', 'code_presentation', 'code_module'])['id_assessment'].count().reset_index()\n",
    "submitted_assignments.rename(columns={'id_assessment': 'submitted_count'}, inplace=True)\n",
    "merged_data = merged_data.merge(submitted_assignments, on=['id_student', 'code_presentation', 'code_module'], how='left')\n",
    "\n",
    "# 이탈 학생의 과제 제출률 계산 (이탈 학생의 과목당 제출 과제 수 / 과목당 전체 과제 수)\n",
    "merged_data['submitted_proportion'] = merged_data['submitted_count'] / merged_data['assignment_count']\n",
    "merged_data['submitted_proportion'] = merged_data['submitted_proportion'].fillna(0)\n",
    "\n",
    "# 이탈 학생의 이탈 단계 할당\n",
    "def assign_stage_based_on_proportion(row):\n",
    "    if pd.isna(row['date_unregistration']):\n",
    "        return 0\n",
    "    elif row['submitted_proportion'] < 0.33:  # Less than 33% of total assignments\n",
    "        return 1\n",
    "    elif row['submitted_proportion'] < 0.66:  # Between 33% and 66%\n",
    "        return 2\n",
    "    else:                                     # More than 66%\n",
    "        return 3\n",
    "\n",
    "merged_data['unregistration_stage'] = merged_data.apply(assign_stage_based_on_proportion, axis=1)"
   ]
  },
  {
   "cell_type": "code",
   "execution_count": null,
   "id": "764a10ba",
   "metadata": {},
   "outputs": [],
   "source": [
    "merged_data = merged_data.drop(['submitted_count','assignment_count','date_unregistration'], axis=1)\n",
    "merged_data.isnull().sum()"
   ]
  },
  {
   "cell_type": "code",
   "execution_count": null,
   "id": "9f427f8b",
   "metadata": {},
   "outputs": [],
   "source": [
    "merged_data.loc[merged_data['unregistration_stage'].notnull(), \n",
    "                ['id_student','code_presentation', 'code_module','unregistration_stage']]\n"
   ]
  },
  {
   "cell_type": "markdown",
   "id": "0b7ac397",
   "metadata": {},
   "source": [
    "#### 아래부터는 EDA 아이디어가 정해진 후 진행"
   ]
  },
  {
   "cell_type": "markdown",
   "id": "c7eb5736",
   "metadata": {},
   "source": [
    "### 5. 불필요한 특성 제거\n",
    "   - 분석에 불필요하거나 중복되는 정보를 가진 열 제거"
   ]
  },
  {
   "cell_type": "code",
   "execution_count": null,
   "id": "b0ac6e58",
   "metadata": {},
   "outputs": [],
   "source": []
  },
  {
   "cell_type": "markdown",
   "id": "e1400c63",
   "metadata": {},
   "source": [
    "### 6. 범주형 변수 인코딩\n",
    "   - 필요에 따라 원-핫 인코딩 또는 라벨 인코딩 적용"
   ]
  },
  {
   "cell_type": "code",
   "execution_count": 297,
   "id": "279e2bd8",
   "metadata": {},
   "outputs": [],
   "source": [
    "df=merged_data"
   ]
  },
  {
   "cell_type": "code",
   "execution_count": 298,
   "id": "8dc187cf",
   "metadata": {},
   "outputs": [],
   "source": [
    "\n",
    "df.loc[:, 'final_result'] = df['final_result'].apply(lambda x: 1 if x == 'Withdrawn' else 0)\n",
    "\n",
    "# df.loc[:, 'date_unregistration'] = df['date_unregistration'].apply(lambda x: 1 if pd.notna(x) else 0)\n",
    "\n",
    "# -> 조건을 주지 않고 원 핫 인코딩을 실행함\n",
    "encode_cols = ['code_module', 'code_presentation', 'assessment_type']\n",
    "df_encoded = pd.get_dummies(df[encode_cols], drop_first=False)\n",
    "\n",
    "# 'age_band' 값을 매핑하여 숫자로 변환\n",
    "df['age_band'] = df['age_band'].astype(str)\n",
    "age_band_map = {'0-35': 0, '35-55': 1, '55<=': 2}\n",
    "df['age_band'] = df['age_band'].map(age_band_map)\n",
    "\n",
    "# 원핫인코딩 제외한 나머지 컬럼 가져오기\n",
    "df_other = df.drop(columns=encode_cols)\n",
    "\n",
    "# 변환된 데이터프레임 합치기\n",
    "df = pd.concat([df_other, df_encoded], axis=1)\n",
    "\n",
    "# 결과 확인\n",
    "df['final_result'].value_counts()\n",
    "df['final_result']=df['final_result'].astype(int)\n"
   ]
  },
  {
   "cell_type": "code",
   "execution_count": null,
   "id": "06d5098f",
   "metadata": {},
   "outputs": [],
   "source": [
    "df = df[merged_data['is_banked']==0]\n",
    "df = df.drop('is_banked', axis=1)\n",
    "\n",
    "\n",
    "education_to_income = {\n",
    "    'Post Graduate Qualification': 6926,  \n",
    "    'HE Qualification': 4699,      \n",
    "    'A Level or Equivalent': 3630,     \n",
    "    'Lower Than A Level': 3576,        \n",
    "    'No Formal quals': 3000     \n",
    "}\n",
    "\n",
    "df['highest_education'] = df['highest_education'].map(education_to_income)\n",
    "df.info()"
   ]
  },
  {
   "cell_type": "code",
   "execution_count": null,
   "id": "03a70578",
   "metadata": {},
   "outputs": [],
   "source": []
  },
  {
   "cell_type": "markdown",
   "id": "4856c2a5",
   "metadata": {},
   "source": [
    "### 7. 스케일링(-> 모델링 시점에 할 지 안할지 정해도 될듯)\n",
    "   - 수치형 변수에 대해 표준화 또는 정규화 적용"
   ]
  },
  {
   "cell_type": "code",
   "execution_count": null,
   "id": "8b85aee6",
   "metadata": {},
   "outputs": [],
   "source": []
  },
  {
   "cell_type": "markdown",
   "id": "7033b05f",
   "metadata": {},
   "source": [
    "---\n",
    "# **Exploratory Data Analysis**"
   ]
  },
  {
   "cell_type": "markdown",
   "id": "af06df3b",
   "metadata": {},
   "source": [
    "## **특성간의 상관관계 확인**\n",
    "- 특성간의 상관관계 확인 후 상관계수가 높은 변수끼리 그룹화하여 그룹별 성과와의 상관관계 분석"
   ]
  },
  {
   "cell_type": "code",
   "execution_count": null,
   "id": "1f96ff04",
   "metadata": {},
   "outputs": [],
   "source": [
    "df.info()\n",
    "df.columns"
   ]
  },
  {
   "cell_type": "code",
   "execution_count": 301,
   "id": "0f7138d5",
   "metadata": {},
   "outputs": [],
   "source": [
    "df.to_csv('merged_data_finall.csv')"
   ]
  },
  {
   "cell_type": "code",
   "execution_count": null,
   "id": "2d856653",
   "metadata": {},
   "outputs": [],
   "source": [
    "import numpy as np\n",
    "import pandas as pd\n",
    "import seaborn as sns\n",
    "import matplotlib.pyplot as plt\n",
    "\n",
    "# 상관 행렬 계산\n",
    "matrix = df.drop(columns=['my_min_score','my_max_score', 'id_assessment', 'id_student','score','is_late','days_early_submission_max','days_early_submission_min','days_early_submission_std','days_early_submission_avg'])\n",
    "corr_matrix = matrix.corr(numeric_only=True)\n",
    "corr_matrix\n",
    "# # 상삼각 행렬 마스킹\n",
    "# upper_mask = np.triu_indices_from(corr_matrix, k=1)\n",
    "# high_corr_values = corr_matrix.values[upper_mask]\n",
    "# average_corr = high_corr_values.mean()\n",
    "\n",
    "# # 상/하위 필터링 (상삼각만 적용)\n",
    "# high_corr = corr_matrix.where(\n",
    "#     (corr_matrix > average_corr) & \n",
    "#     np.triu(np.ones_like(corr_matrix, dtype=bool), k=1)\n",
    "# )\n",
    "# low_corr = corr_matrix.where(\n",
    "#     (corr_matrix < average_corr) & \n",
    "#     np.triu(np.ones_like(corr_matrix, dtype=bool), k=1)\n",
    "# )\n",
    "\n",
    "# # 상위 20개 추출\n",
    "# top_20 = high_corr.unstack().dropna().sort_values(ascending=False).head(20)\n",
    "# down_20 = low_corr.unstack().dropna().sort_values().head(20)\n",
    "\n",
    "# # 변수 목록 생성 (집합 → 리스트 변환)\n",
    "# def get_unique_vars(pairs):\n",
    "#     return list({var for pair in pairs.index for var in pair})\n",
    "\n",
    "# vars_to_plot = get_unique_vars(top_20)\n",
    "# vars_to_plot2 = get_unique_vars(down_20)\n",
    "\n",
    "# # 히트맵 생성\n",
    "# def plot_heatmap(data, title):\n",
    "#     plt.figure(figsize=(12,10))\n",
    "#     sns.heatmap(data, annot=True, cmap='coolwarm', fmt=\".2f\", \n",
    "#                 center=0, vmin=-1, vmax=1)\n",
    "#     plt.title(title)\n",
    "#     plt.show()\n",
    "\n",
    "# plot_heatmap(corr_matrix.loc[vars_to_plot, vars_to_plot], \n",
    "#             \"Top 20 Highest Correlations\")\n",
    "# plot_heatmap(corr_matrix.loc[vars_to_plot2, vars_to_plot2], \n",
    "#             \"Bottom 20 Lowest Correlations\")\n",
    "\n",
    "# 상위 20개 컬럼만 선택\n",
    "top_20_columns = corr_matrix.columns[:30]\n",
    "top_20_corr_matrix = corr_matrix.loc[top_20_columns, top_20_columns]\n",
    "\n",
    "# 히트맵 생성\n",
    "plt.figure(figsize=(12, 10))\n",
    "sns.heatmap(top_20_corr_matrix, annot=True, fmt='.2f', cmap='coolwarm', cbar=True)\n",
    "plt.title('Top 20 Columns Correlation Matrix Heatmap')\n",
    "plt.show()"
   ]
  },
  {
   "cell_type": "code",
   "execution_count": 303,
   "id": "d1c7fa72",
   "metadata": {},
   "outputs": [],
   "source": [
    "# from itertools import combinations\n",
    "# merged_data=matrix\n",
    "# numeric_df = merged_data.select_dtypes(include=['int64', 'float64'])\n",
    "\n",
    "# column_pairs = list(combinations(numeric_df.columns, 2))\n",
    "\n",
    "# for x_col, y_col in column_pairs:\n",
    "#     plt.figure(figsize=(6, 4))\n",
    "#     sns.scatterplot(data=numeric_df, x=x_col, y=y_col, alpha=0.5)\n",
    "#     plt.title(f\"Scatter Plot: {x_col} vs {y_col}\")\n",
    "#     plt.tight_layout()\n",
    "#     plt.show()"
   ]
  },
  {
   "cell_type": "code",
   "execution_count": 304,
   "id": "4b1699eb",
   "metadata": {},
   "outputs": [],
   "source": [
    "# numeric_df = merged_data.select_dtypes(include=['int64', 'float64'])\n",
    "\n",
    "# for col in numeric_df.columns:\n",
    "#     if col != 'date_unregistration':  # 'date_unregistration' ??\n",
    "#         plt.figure(figsize=(6, 4))\n",
    "#         sns.scatterplot(data=numeric_df, x='date_unregistration', y=col, alpha=0.5)\n",
    "#         plt.title(f\"Scatter Plot: date_unregistration vs {col}\")\n",
    "#         plt.tight_layout()\n",
    "#         plt.show()"
   ]
  },
  {
   "cell_type": "markdown",
   "id": "57d6c6a4",
   "metadata": {},
   "source": [
    "### 여기부터는 위의 상관관계 확인후 분석 들어가야함"
   ]
  },
  {
   "cell_type": "markdown",
   "id": "a994bfc7",
   "metadata": {},
   "source": [
    "## (예시)**온라인 학습 활동 분석**\n",
    "- sum_click(총 클릭 수)와 final_result(최종 성적) 간 상관관계 분석\n",
    "- 학습 콘텐츠 유형(activity_type)별 평균 클릭 수(sum_click) 비교\n",
    "- week_from, week_to를 활용한 주차별 학습 패턴 분석 (lineplot)"
   ]
  },
  {
   "cell_type": "code",
   "execution_count": null,
   "id": "801f6a66",
   "metadata": {},
   "outputs": [],
   "source": []
  },
  {
   "cell_type": "markdown",
   "metadata": {},
   "source": [
    "## (예시)**학생의 연령, 교육 수준, 장애 여부 등이 학습 성과와 관련 있는지 분석**\n",
    "- age_band, highest_education, disability 등과 final_result 간 분포 비교 (countplot)\n",
    "- num_of_prev_attempts(재수강 횟수)와 final_result 간 상관관계 분석\n",
    "- date_unregistration 값이 있는 경우, 조기 이탈 학생과 학습 활동 비교"
   ]
  },
  {
   "cell_type": "code",
   "execution_count": null,
   "id": "27508368",
   "metadata": {},
   "outputs": [],
   "source": []
  },
  {
   "cell_type": "markdown",
   "id": "274ea184",
   "metadata": {},
   "source": [
    "---"
   ]
  },
  {
   "cell_type": "markdown",
   "id": "17255b4b",
   "metadata": {},
   "source": [
    "### randomforest"
   ]
  },
  {
   "cell_type": "code",
   "execution_count": null,
   "id": "950454e5",
   "metadata": {},
   "outputs": [],
   "source": [
    "from sklearn.ensemble import RandomForestClassifier\n",
    "from sklearn.metrics import accuracy_score\n",
    "\n",
    "rf_clf = RandomForestClassifier(n_estimators=100, max_depth=7, random_state=0)\n",
    "\n",
    "merged_data=df\n",
    "# 학습\n",
    "X_train = merged_data.drop('final_result',axis=1)\n",
    "y_train = merged_data['final_result']\n",
    "\n",
    "rf_clf.fit(X_train, y_train)\n",
    "\n",
    "y_pred_train = rf_clf.predict(X_train)\n",
    "acc_score_train = accuracy_score(y_train, y_pred_train)\n",
    "print('학습 점수:', acc_score_train)\n",
    "\n",
    "# y_pred_test = rf_clf.predict(X_test)\n",
    "# acc_score_test = accuracy_score(y_test, y_pred_test)\n",
    "# print('테스트 평가 점수:', acc_score_test)"
   ]
  },
  {
   "cell_type": "code",
   "execution_count": null,
   "id": "9c46acc0",
   "metadata": {},
   "outputs": [],
   "source": [
    "feat_imptc_ser = pd.Series(rf_clf.feature_importances_, index=data.feature_names).sort_values(ascending=False)\n",
    "feat_imptc_ser\n",
    "\n",
    "# 특성 중요도 시각화\n",
    "plt.figure(figsize=(8, 6))\n",
    "sns.barplot(\n",
    "    x=feat_imptc_ser,\n",
    "    y=feat_imptc_ser.index,\n",
    "    hue=feat_imptc_ser.index\n",
    ")"
   ]
  }
 ],
 "metadata": {
  "kaggle": {
   "accelerator": "none",
   "dataSources": [
    {
     "datasetId": 138,
     "sourceId": 4508,
     "sourceType": "datasetVersion"
    },
    {
     "datasetId": 3405,
     "sourceId": 6663,
     "sourceType": "datasetVersion"
    },
    {
     "datasetId": 434238,
     "sourceId": 2654038,
     "sourceType": "datasetVersion"
    },
    {
     "datasetId": 4669189,
     "sourceId": 7941576,
     "sourceType": "datasetVersion"
    }
   ],
   "dockerImageVersionId": 30673,
   "isGpuEnabled": false,
   "isInternetEnabled": false,
   "language": "python",
   "sourceType": "notebook"
  },
  "kernelspec": {
   "display_name": "pystudy_env",
   "language": "python",
   "name": "python3"
  },
  "language_info": {
   "codemirror_mode": {
    "name": "ipython",
    "version": 3
   },
   "file_extension": ".py",
   "mimetype": "text/x-python",
   "name": "python",
   "nbconvert_exporter": "python",
   "pygments_lexer": "ipython3",
   "version": "3.12.9"
  },
  "papermill": {
   "default_parameters": {},
   "duration": 39.430358,
   "end_time": "2024-03-31T18:38:12.347378",
   "environment_variables": {},
   "exception": null,
   "input_path": "__notebook__.ipynb",
   "output_path": "__notebook__.ipynb",
   "parameters": {},
   "start_time": "2024-03-31T18:37:32.917020",
   "version": "2.5.0"
  }
 },
 "nbformat": 4,
 "nbformat_minor": 5
}
