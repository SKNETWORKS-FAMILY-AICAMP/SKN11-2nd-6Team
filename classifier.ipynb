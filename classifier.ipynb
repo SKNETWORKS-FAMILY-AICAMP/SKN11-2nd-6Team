{
 "cells": [
  {
   "cell_type": "markdown",
   "metadata": {},
   "source": [
    "RandomForestClassifier"
   ]
  },
  {
   "cell_type": "code",
   "execution_count": 11,
   "metadata": {},
   "outputs": [
    {
     "name": "stdout",
     "output_type": "stream",
     "text": [
      "학습 점수: 0.9297676931388439\n",
      "테스트 평가 점수: 0.9296646043633996\n"
     ]
    }
   ],
   "source": [
    "import numpy as np\n",
    "import pandas as pd\n",
    "import seaborn as sns\n",
    "import matplotlib.pyplot as plt\n",
    "from sklearn.model_selection import train_test_split\n",
    "from sklearn.ensemble import RandomForestClassifier\n",
    "from sklearn.metrics import accuracy_score\n",
    "\n",
    "\n",
    "# 데이터 로드\n",
    "df = pd.read_csv(\"merged_data_final.csv\")\n",
    "X = df.drop('final_result', axis=1)\n",
    "y = df['final_result']\n",
    "X_train,X_test,y_train,y_test=train_test_split(X,y,test_size=0.2,stratify=y)\n",
    "\n",
    "rf_clf = RandomForestClassifier(n_estimators=100, max_depth=7, random_state=0)\n",
    "\n",
    "# 학습\n",
    "rf_clf.fit(X_train, y_train)\n",
    "\n",
    "y_pred_train = rf_clf.predict(X_train)\n",
    "acc_score_train = accuracy_score(y_train, y_pred_train)\n",
    "print('학습 점수:', acc_score_train)\n",
    "\n",
    "y_pred_test = rf_clf.predict(X_test)\n",
    "acc_score_test = accuracy_score(y_test, y_pred_test)\n",
    "print('테스트 평가 점수:', acc_score_test)"
   ]
  },
  {
   "cell_type": "markdown",
   "metadata": {},
   "source": [
    "---\n",
    "LogisticRegression"
   ]
  },
  {
   "cell_type": "code",
   "execution_count": 12,
   "metadata": {},
   "outputs": [],
   "source": [
    "# 데이터셋 분리 및 정규화\n",
    "from sklearn.model_selection import train_test_split\n",
    "from sklearn.preprocessing import StandardScaler\n",
    "\n",
    "# 특성-라벨 데이터 분리\n",
    "df = pd.read_csv(\"merged_data_final.csv\")\n",
    "X = df.drop('final_result', axis=1)\n",
    "y = df['final_result']\n",
    "X_train,X_test,y_train,y_test=train_test_split(X,y,test_size=0.2,random_state=42)\n",
    "\n",
    "scaler = StandardScaler()\n",
    "X_train_scaled = scaler.fit_transform(X_train)\n",
    "X_test_scaled = scaler.transform(X_test)"
   ]
  },
  {
   "cell_type": "code",
   "execution_count": 14,
   "metadata": {},
   "outputs": [
    {
     "data": {
      "text/plain": [
       "(0.929671484499308, 0.9278588555696989)"
      ]
     },
     "execution_count": 14,
     "metadata": {},
     "output_type": "execute_result"
    }
   ],
   "source": [
    "# 모델 학습 및 평가\n",
    "from sklearn.linear_model import LogisticRegression\n",
    "\n",
    "lr_clf = LogisticRegression()\n",
    "lr_clf.fit(X_train_scaled, y_train)\n",
    "lr_clf.score(X_train_scaled, y_train), lr_clf.score(X_test_scaled, y_test)"
   ]
  },
  {
   "cell_type": "code",
   "execution_count": 15,
   "metadata": {},
   "outputs": [
    {
     "name": "stdout",
     "output_type": "stream",
     "text": [
      "테스트 평가 점수: 0.9280956750836269\n"
     ]
    },
    {
     "name": "stderr",
     "output_type": "stream",
     "text": [
      "/opt/anaconda3/envs/pystudy_env/lib/python3.12/site-packages/sklearn/utils/validation.py:2732: UserWarning: X has feature names, but LogisticRegression was fitted without feature names\n",
      "  warnings.warn(\n"
     ]
    }
   ],
   "source": [
    "y_pred_test = lr_clf.predict(X_test)\n",
    "acc_score_test = accuracy_score(y_test, y_pred_test)\n",
    "print('테스트 평가 점수:', acc_score_test)"
   ]
  },
  {
   "cell_type": "markdown",
   "metadata": {},
   "source": [
    "---\n",
    "xgboost"
   ]
  },
  {
   "cell_type": "code",
   "execution_count": 23,
   "metadata": {},
   "outputs": [
    {
     "name": "stdout",
     "output_type": "stream",
     "text": [
      "0.9319656905190086\n",
      "0.9293685799709897\n",
      "              precision    recall  f1-score   support\n",
      "\n",
      "           0       0.93      1.00      0.96     31352\n",
      "           1       0.60      0.05      0.09      2429\n",
      "\n",
      "    accuracy                           0.93     33781\n",
      "   macro avg       0.77      0.52      0.53     33781\n",
      "weighted avg       0.91      0.93      0.90     33781\n",
      "\n"
     ]
    }
   ],
   "source": [
    "from xgboost import XGBClassifier   # xgboost에서는 sklearn과 비슷한 api 제공\n",
    "from sklearn.datasets import load_iris\n",
    "from sklearn.model_selection import train_test_split\n",
    "from sklearn.metrics import accuracy_score, classification_report\n",
    "\n",
    "# 특성-라벨 데이터 분리\n",
    "df = pd.read_csv(\"merged_data_final.csv\")\n",
    "X = df.drop('final_result', axis=1)\n",
    "y = df['final_result']\n",
    "X_train,X_test,y_train,y_test=train_test_split(X,y,test_size=0.2,random_state=42)\n",
    "\n",
    "xgb_clf = XGBClassifier(\n",
    "    n_estimators=100,\n",
    "    max_depth=3, \n",
    "    learning_rate=0.1,\n",
    "    random_state=0\n",
    ")\n",
    "xgb_clf.fit(X_train, y_train)\n",
    "\n",
    "y_pred_train = xgb_clf.predict(X_train)\n",
    "y_pred_test = xgb_clf.predict(X_test)\n",
    "\n",
    "print(accuracy_score(y_train, y_pred_train))\n",
    "print(accuracy_score(y_test, y_pred_test))\n",
    "\n",
    "print(classification_report(y_test, y_pred_test))"
   ]
  },
  {
   "cell_type": "markdown",
   "metadata": {},
   "source": [
    "---\n",
    "앙상블"
   ]
  },
  {
   "cell_type": "code",
   "execution_count": 49,
   "metadata": {},
   "outputs": [
    {
     "name": "stderr",
     "output_type": "stream",
     "text": [
      "/opt/anaconda3/envs/pystudy_env/lib/python3.12/site-packages/sklearn/linear_model/_logistic.py:465: ConvergenceWarning: lbfgs failed to converge (status=1):\n",
      "STOP: TOTAL NO. OF ITERATIONS REACHED LIMIT.\n",
      "\n",
      "Increase the number of iterations (max_iter) or scale the data as shown in:\n",
      "    https://scikit-learn.org/stable/modules/preprocessing.html\n",
      "Please also refer to the documentation for alternative solver options:\n",
      "    https://scikit-learn.org/stable/modules/linear_model.html#logistic-regression\n",
      "  n_iter_i = _check_optimize_result(\n"
     ]
    },
    {
     "name": "stdout",
     "output_type": "stream",
     "text": [
      "학습 점수:  0.9630262797599224\n",
      "테스트 평가 점수:  0.9445842337408602\n",
      "              precision    recall  f1-score   support\n",
      "\n",
      "           0       0.95      1.00      0.97     31352\n",
      "           1       0.90      0.26      0.40      2429\n",
      "\n",
      "    accuracy                           0.94     33781\n",
      "   macro avg       0.92      0.63      0.69     33781\n",
      "weighted avg       0.94      0.94      0.93     33781\n",
      "\n"
     ]
    }
   ],
   "source": [
    "from sklearn.neighbors import KNeighborsClassifier\n",
    "from sklearn.linear_model import LogisticRegression\n",
    "from sklearn.tree import DecisionTreeClassifier\n",
    "from sklearn.ensemble import VotingClassifier\n",
    "from sklearn.metrics import accuracy_score\n",
    "\n",
    "lr_clf = LogisticRegression()\n",
    "dt_clf = DecisionTreeClassifier()\n",
    "xgb_clf = XGBClassifier()\n",
    "\n",
    "voting_clf = VotingClassifier(\n",
    "    estimators=[\n",
    "        ('lr_clf', lr_clf),\n",
    "        ('dt_clf', dt_clf),\n",
    "        ('xgb_clf', xgb_clf)\n",
    "    ],\n",
    "    voting='hard'   # 기본값\n",
    ")\n",
    "\n",
    "# 특성-라벨 데이터 분리\n",
    "df = pd.read_csv(\"merged_data_final.csv\")\n",
    "X = df.drop('final_result', axis=1)\n",
    "y = df['final_result']\n",
    "X_train,X_test,y_train,y_test=train_test_split(X,y,test_size=0.2,random_state=42)\n",
    "\n",
    "\n",
    "# 앙상블 모델 학습\n",
    "voting_clf.fit(X_train, y_train)\n",
    "\n",
    "# 예측 및 평가\n",
    "y_pred_train = voting_clf.predict(X_train)\n",
    "acc_score_train = accuracy_score(y_train, y_pred_train)\n",
    "print(\"학습 점수: \", acc_score_train)\n",
    "\n",
    "y_pred_test = voting_clf.predict(X_test)\n",
    "acc_score_test = accuracy_score(y_test, y_pred_test)\n",
    "print(\"테스트 평가 점수: \", acc_score_test)\n",
    "\n",
    "print(classification_report(y_test, y_pred_test))\n",
    "\n",
    "# # hard voting 작동 원리 == 다수결\n",
    "# start, end = 10, 50\n",
    "\n",
    "# voting_clf_pred = voting_clf.predict(X_test[start:end])\n",
    "# print('앙상블 예측값: ', voting_clf_pred)\n",
    "\n",
    "# for classifier in [xgb_clf, lr_clf, dt_clf]:\n",
    "#     classifier.fit(X_train, y_train)\n",
    "#     pred = classifier.predict(X_test)\n",
    "#     acc_score = accuracy_score(y_test, pred)\n",
    "\n",
    "#     class_name = classifier.__class__.__name__  # 클래스의 이름 속성\n",
    "#     print(f'{class_name} 개별 정확도: {acc_score: .4f}')\n",
    "#     print(f'{class_name} 예측값: {pred[start:end]}')\n",
    "    "
   ]
  },
  {
   "cell_type": "markdown",
   "metadata": {},
   "source": [
    "---"
   ]
  },
  {
   "cell_type": "code",
   "execution_count": 28,
   "metadata": {},
   "outputs": [],
   "source": [
    "# 데이터셋 분리 및 정규화\n",
    "from sklearn.model_selection import train_test_split\n",
    "from sklearn.preprocessing import StandardScaler\n",
    "\n",
    "# 특성-라벨 데이터 분리\n",
    "df = pd.read_csv(\"merged_data_final.csv\")\n",
    "X = df.drop('final_result', axis=1)\n",
    "y = df['final_result']\n",
    "X_train,X_test,y_train,y_test=train_test_split(X,y,test_size=0.2,random_state=42)\n",
    "\n",
    "scaler = StandardScaler()\n",
    "X_train_scaled = scaler.fit_transform(X_train)\n",
    "X_test_scaled = scaler.transform(X_test)"
   ]
  },
  {
   "cell_type": "code",
   "execution_count": 29,
   "metadata": {},
   "outputs": [],
   "source": [
    "# 다른 평가 지표\n",
    "from sklearn.metrics import mean_squared_error, root_mean_squared_error, mean_absolute_error, r2_score\n",
    "\n",
    "def evaluate_regression(y_true, y_pred):\n",
    "    mse = mean_squared_error(y_true, y_pred)\n",
    "    rmse = root_mean_squared_error(y_true, y_pred)\n",
    "    mae = mean_absolute_error(y_true, y_pred)\n",
    "    r2 = r2_score(y_true, y_pred)\n",
    "    print(f'MSE: {mse}, RMSE: {rmse}, MAE: {mae}, R2: {r2}')\n"
   ]
  },
  {
   "cell_type": "code",
   "execution_count": 30,
   "metadata": {},
   "outputs": [
    {
     "name": "stdout",
     "output_type": "stream",
     "text": [
      "0.12094644803034382 0.1031127789882359\n",
      "MSE: 0.05985295519481376, RMSE: 0.24464863620060048, MAE: 0.12388975497063279, R2: 0.1031127789882359\n",
      "MSE: 0.05759761274511194, RMSE: 0.23999502650078383, MAE: 0.12142513496328294, R2: 0.12094644803034382\n"
     ]
    }
   ],
   "source": [
    "# 다항회귀 (훈련, 평가, 다른 평가 지표들로 평가)\n",
    "from sklearn.linear_model import LinearRegression\n",
    "from sklearn.pipeline import Pipeline\n",
    "from sklearn.preprocessing import PolynomialFeatures\n",
    "\n",
    "model = Pipeline([\n",
    "    # (이름, 객체)\n",
    "    ('poly', PolynomialFeatures(include_bias=False, degree=2)),\n",
    "    ('lr', LinearRegression())\n",
    "])\n",
    "\n",
    "model.fit(X_train, y_train)\n",
    "print(model.score(X_train, y_train), model.score(X_test, y_test))\n",
    "\n",
    "y_pred_test = model.predict(X_test)\n",
    "y_pred_train = model.predict(X_train)\n",
    "evaluate_regression(y_test, y_pred_test)\n",
    "evaluate_regression(y_train, y_pred_train)"
   ]
  },
  {
   "cell_type": "markdown",
   "metadata": {},
   "source": [
    "---\n",
    "oversampling"
   ]
  },
  {
   "cell_type": "code",
   "execution_count": 35,
   "metadata": {},
   "outputs": [
    {
     "name": "stdout",
     "output_type": "stream",
     "text": [
      "Original Class Distribution: Counter({0: 156950, 1: 11954})\n"
     ]
    },
    {
     "data": {
      "image/png": "[encoded data removed]",
      "text/plain": [
       "<Figure size 640x480 with 1 Axes>"
      ]
     },
     "metadata": {},
     "output_type": "display_data"
    }
   ],
   "source": [
    "import pandas as pd\n",
    "from collections import Counter\n",
    "\n",
    "# 특성-라벨 데이터 분리\n",
    "df = pd.read_csv(\"merged_data_final.csv\")\n",
    "X = df.drop('final_result', axis=1)\n",
    "y = df['final_result']\n",
    "X_train,X_test,y_train,y_test=train_test_split(X,y,test_size=0.2,random_state=42)\n",
    "\n",
    "\n",
    "# 클래스 분포 확인\n",
    "class_dist = Counter(y)\n",
    "print(f\"Original Class Distribution: {class_dist}\")\n",
    "\n",
    "# 시각화\n",
    "import matplotlib.pyplot as plt\n",
    "plt.pie(class_dist.values(), labels=class_dist.keys(), autopct='%1.1f%%')\n",
    "plt.title('Class Distribution Before Oversampling')\n",
    "plt.show()"
   ]
  },
  {
   "cell_type": "code",
   "execution_count": 50,
   "metadata": {},
   "outputs": [
    {
     "name": "stderr",
     "output_type": "stream",
     "text": [
      "/opt/anaconda3/envs/pystudy_env/lib/python3.12/site-packages/sklearn/linear_model/_logistic.py:465: ConvergenceWarning: lbfgs failed to converge (status=1):\n",
      "STOP: TOTAL NO. OF ITERATIONS REACHED LIMIT.\n",
      "\n",
      "Increase the number of iterations (max_iter) or scale the data as shown in:\n",
      "    https://scikit-learn.org/stable/modules/preprocessing.html\n",
      "Please also refer to the documentation for alternative solver options:\n",
      "    https://scikit-learn.org/stable/modules/linear_model.html#logistic-regression\n",
      "  n_iter_i = _check_optimize_result(\n"
     ]
    },
    {
     "name": "stdout",
     "output_type": "stream",
     "text": [
      "SMOTE 적용 후 성능:\n",
      "              precision    recall  f1-score   support\n",
      "\n",
      "           0       0.96      0.95      0.95     31390\n",
      "           1       0.41      0.44      0.42      2391\n",
      "\n",
      "    accuracy                           0.91     33781\n",
      "   macro avg       0.68      0.70      0.69     33781\n",
      "weighted avg       0.92      0.91      0.92     33781\n",
      "\n"
     ]
    }
   ],
   "source": [
    "# 수정된 코드 (데이터 누수 방지 버전)\n",
    "from sklearn.model_selection import train_test_split\n",
    "from imblearn.over_sampling import SMOTE\n",
    "from imblearn.pipeline import Pipeline\n",
    "\n",
    "df = pd.read_csv(\"merged_data_final.csv\")\n",
    "X = df.drop('final_result', axis=1)\n",
    "y = df['final_result']\n",
    "# 1. 원본 데이터 분할 (SMOTE 적용 전)\n",
    "X_train, X_test, y_train, y_test = train_test_split(\n",
    "    X, y, \n",
    "    test_size=0.2, \n",
    "    stratify=y,  # 계층적 분할\n",
    "    random_state=42\n",
    ")\n",
    "\n",
    "# 2. 파이프라인 구성\n",
    "pipeline = Pipeline([\n",
    "    ('smote', SMOTE(random_state=42)),\n",
    "    ('model', voting_clf)  # VotingClassifier 객체\n",
    "])\n",
    "\n",
    "# 3. 학습 및 평가   \n",
    "pipeline.fit(X_train, y_train)\n",
    "y_pred = pipeline.predict(X_test)\n",
    "\n",
    "print(\"SMOTE 적용 후 성능:\")\n",
    "print(classification_report(y_test, y_pred))"
   ]
  },
  {
   "cell_type": "markdown",
   "metadata": {},
   "source": [
    "---\n",
    "## 앙상블 + 오버샘플링"
   ]
  },
  {
   "cell_type": "code",
   "execution_count": 57,
   "metadata": {},
   "outputs": [
    {
     "name": "stdout",
     "output_type": "stream",
     "text": [
      "Before SMOTE:[156950  11954]\n",
      "              precision    recall  f1-score   support\n",
      "\n",
      "           0       0.95      1.00      0.97     31390\n",
      "           1       0.94      0.28      0.43      2391\n",
      "\n",
      "    accuracy                           0.95     33781\n",
      "   macro avg       0.94      0.64      0.70     33781\n",
      "weighted avg       0.95      0.95      0.93     33781\n",
      "\n",
      "After SMOTE:[125560 125560]\n",
      "(168904, 34) (168904,)\n",
      "(251120, 34) (251120,)\n",
      "              precision    recall  f1-score   support\n",
      "\n",
      "           0       0.96      0.95      0.96     31390\n",
      "           1       0.44      0.52      0.47      2391\n",
      "\n",
      "    accuracy                           0.92     33781\n",
      "   macro avg       0.70      0.73      0.72     33781\n",
      "weighted avg       0.93      0.92      0.92     33781\n",
      "\n"
     ]
    }
   ],
   "source": [
    "lr_clf = LogisticRegression()\n",
    "dt_clf = DecisionTreeClassifier()\n",
    "xgb_clf = XGBClassifier()\n",
    "\n",
    "voting_clf = VotingClassifier(\n",
    "    estimators=[\n",
    "        ('lr_clf', lr_clf),\n",
    "        ('dt_clf', dt_clf),\n",
    "        ('xgb_clf', xgb_clf)\n",
    "    ],\n",
    "    voting='hard'   # 기본값\n",
    ")\n",
    "\n",
    "pipeline = Pipeline([\n",
    "    ('smote', SMOTE(random_state=42)),\n",
    "    ('model', voting_clf)  # VotingClassifier 객체\n",
    "])\n",
    "\n",
    "# 특성-라벨 데이터 분리\n",
    "df = pd.read_csv(\"merged_data_final.csv\")\n",
    "X = df.drop('final_result', axis=1)\n",
    "y = df['final_result']\n",
    "X_train,X_test,y_train,y_test=train_test_split(X,y,test_size=0.2,stratify=y,random_state=42)\n",
    "\n",
    "scaler = StandardScaler()\n",
    "X_train_scaled = scaler.fit_transform(X_train)\n",
    "X_test_scaled = scaler.transform(X_test)\n",
    "\n",
    "print(f\"Before SMOTE:{np.bincount(y)}\")\n",
    "voting_clf.fit(X_train_scaled, y_train)\n",
    "y_pred = voting_clf.predict(X_test_scaled)\n",
    "print(classification_report(y_test,y_pred))\n",
    "\n",
    "####################################################################################\n",
    "\n",
    "smote=SMOTE(random_state=42)\n",
    "X_resample,y_resample = smote.fit_resample(X_train_scaled,y_train)\n",
    "\n",
    "print(f\"After SMOTE:{np.bincount(y_resample)}\")\n",
    "print(X.shape,y.shape)\n",
    "print(X_resample.shape,y_resample.shape)\n",
    "\n",
    "pipeline.fit(X_resample, y_resample)\n",
    "y_pred = pipeline.predict(X_test_scaled)\n",
    "print(classification_report(y_test,y_pred))"
   ]
  },
  {
   "cell_type": "code",
   "execution_count": null,
   "metadata": {},
   "outputs": [],
   "source": []
  }
 ],
 "metadata": {
  "kernelspec": {
   "display_name": "pystudy_env",
   "language": "python",
   "name": "python3"
  },
  "language_info": {
   "codemirror_mode": {
    "name": "ipython",
    "version": 3
   },
   "file_extension": ".py",
   "mimetype": "text/x-python",
   "name": "python",
   "nbconvert_exporter": "python",
   "pygments_lexer": "ipython3",
   "version": "3.12.9"
  }
 },
 "nbformat": 4,
 "nbformat_minor": 2
}
